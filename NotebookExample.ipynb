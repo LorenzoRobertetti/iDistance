{
 "cells": [
  {
   "cell_type": "markdown",
   "metadata": {},
   "source": [
    "## IMPORTS"
   ]
  },
  {
   "cell_type": "code",
   "execution_count": 1,
   "metadata": {},
   "outputs": [],
   "source": [
    "import numpy as np\n",
    "from scipy.spatial import ConvexHull\n",
    "from scipy.spatial.distance import cdist\n",
    "from matplotlib import pyplot as plt\n",
    "from iDistance import iDistanceNN\n",
    "\n",
    "from sklearn.neighbors import NearestNeighbors\n",
    "from tqdm import tqdm\n",
    "\n",
    "import time\n",
    "\n",
    "from sklearn.cluster import KMeans\n",
    "\n",
    "import pandas as pd\n",
    "from pymongo import MongoClient"
   ]
  },
  {
   "cell_type": "markdown",
   "metadata": {},
   "source": [
    "## DATASPACE SIMULATION WITH RANDOM POINTS "
   ]
  },
  {
   "cell_type": "code",
   "execution_count": 2,
   "metadata": {},
   "outputs": [],
   "source": [
    "points = np.random.rand(100000, 64)"
   ]
  },
  {
   "cell_type": "markdown",
   "metadata": {},
   "source": [
    "## INITIALIZE A STANDAR SKLEARN NEAREST NEIGHBORS"
   ]
  },
  {
   "cell_type": "code",
   "execution_count": 3,
   "metadata": {},
   "outputs": [
    {
     "data": {
      "text/plain": [
       "NearestNeighbors(algorithm='auto', leaf_size=30, metric='euclidean',\n",
       "                 metric_params=None, n_jobs=None, n_neighbors=100, p=2,\n",
       "                 radius=1.0)"
      ]
     },
     "execution_count": 3,
     "metadata": {},
     "output_type": "execute_result"
    }
   ],
   "source": [
    "knnStandard = NearestNeighbors(n_neighbors = 100, metric = \"euclidean\")\n",
    "knnStandard.fit(points)"
   ]
  },
  {
   "cell_type": "markdown",
   "metadata": {},
   "source": [
    "## IDISTANCE INITIALIZATION AND FITTING"
   ]
  },
  {
   "cell_type": "code",
   "execution_count": 4,
   "metadata": {},
   "outputs": [
    {
     "name": "stdout",
     "output_type": "stream",
     "text": [
      "100000              0\n"
     ]
    }
   ],
   "source": [
    "knn = iDistanceNN(100)\n",
    "knn.fit(9, points)"
   ]
  },
  {
   "cell_type": "markdown",
   "metadata": {},
   "source": [
    "## COMPUTE KNN "
   ]
  },
  {
   "cell_type": "code",
   "execution_count": 5,
   "metadata": {},
   "outputs": [],
   "source": [
    "pointTest = points[18]"
   ]
  },
  {
   "cell_type": "code",
   "execution_count": 7,
   "metadata": {},
   "outputs": [
    {
     "name": "stdout",
     "output_type": "stream",
     "text": [
      "--- 1.437934398651123 ---\n"
     ]
    }
   ],
   "source": [
    "start_time = time.time()\n",
    "nNeighbors = knn.kNeighbors(pointTest)\n",
    "print(\"--- %s ---\" % (time.time() - start_time))"
   ]
  },
  {
   "cell_type": "code",
   "execution_count": 8,
   "metadata": {},
   "outputs": [
    {
     "name": "stdout",
     "output_type": "stream",
     "text": [
      "--- 0.049346208572387695 ---\n"
     ]
    }
   ],
   "source": [
    "start_time = time.time()\n",
    "_, indices = knnStandard.kneighbors([pointTest])\n",
    "print(\"--- %s ---\" % (time.time() - start_time))"
   ]
  },
  {
   "cell_type": "markdown",
   "metadata": {},
   "source": [
    "## TEST LOOP"
   ]
  },
  {
   "cell_type": "code",
   "execution_count": null,
   "metadata": {},
   "outputs": [],
   "source": [
    "countTest = 0\n",
    "\n",
    "for i in tqdm(range(len(points))):\n",
    "    \n",
    "    z = points[i]\n",
    "    \n",
    "    _, indices = knnStandard.kneighbors([z])\n",
    "    indices_list = indices.tolist()\n",
    "    idxList = indices_list[0]\n",
    "    \n",
    "    setStandard = []\n",
    "    for j in range(len(idxList)):\n",
    "        setStandard.append(points[idxList[j]])\n",
    "        \n",
    "    nNeighbors = knn.kNeighbors(z)\n",
    "        \n",
    "    countPres = np.zeros(100, dtype = \"int\")\n",
    "\n",
    "    for k in range(len(nNeighbors.answerSet)):\n",
    "        for s in range(len(setStandard)):\n",
    "            if(np.array_equal(nNeighbors.answerSet[k][2], setStandard[s])):\n",
    "                countPres[s] += 1\n",
    "            \n",
    "    for l in range(len(countPres)):\n",
    "        if(countPres[l] == 0):\n",
    "            print(\"Male\", i)\n",
    "            countTest += 1\n",
    "            \n",
    "print(countTest)"
   ]
  },
  {
   "cell_type": "markdown",
   "metadata": {},
   "source": [
    "## UPDATE TEST"
   ]
  },
  {
   "cell_type": "code",
   "execution_count": 9,
   "metadata": {},
   "outputs": [
    {
     "name": "stdout",
     "output_type": "stream",
     "text": [
      "--- 0.00043582916259765625 ---\n"
     ]
    }
   ],
   "source": [
    "test = np.random.rand(64)\n",
    "\n",
    "start_time = time.time()\n",
    "knn.insertOne(test)\n",
    "print(\"--- %s ---\" % (time.time() - start_time))"
   ]
  }
 ],
 "metadata": {
  "kernelspec": {
   "display_name": "Python 3",
   "language": "python",
   "name": "python3"
  },
  "language_info": {
   "codemirror_mode": {
    "name": "ipython",
    "version": 3
   },
   "file_extension": ".py",
   "mimetype": "text/x-python",
   "name": "python",
   "nbconvert_exporter": "python",
   "pygments_lexer": "ipython3",
   "version": "3.6.9"
  }
 },
 "nbformat": 4,
 "nbformat_minor": 4
}
